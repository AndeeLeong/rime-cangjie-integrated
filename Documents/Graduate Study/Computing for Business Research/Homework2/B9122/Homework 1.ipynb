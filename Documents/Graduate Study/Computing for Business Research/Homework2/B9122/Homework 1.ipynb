{
 "cells": [
  {
   "cell_type": "code",
   "execution_count": 1,
   "metadata": {},
   "outputs": [],
   "source": [
    "def EMI(rate: float, N: int, PV: int, FV: int) -> float:\n",
    "    discountFactor = (1 + rate) ** N\n",
    "    return (PV + FV / discountFactor) * rate * discountFactor / (discountFactor - 1)"
   ]
  },
  {
   "cell_type": "code",
   "execution_count": 2,
   "metadata": {},
   "outputs": [
    {
     "data": {
      "text/plain": [
       "680.6172209633187"
      ]
     },
     "execution_count": 2,
     "metadata": {},
     "output_type": "execute_result"
    }
   ],
   "source": [
    "EMI(0.05, 30, 10000, 2000)"
   ]
  },
  {
   "cell_type": "code",
   "execution_count": 59,
   "metadata": {},
   "outputs": [],
   "source": [
    "import re\n",
    "def countWords(filePath: str) -> None:\n",
    "    file = open(filePath, 'r')\n",
    "    content = ''.join(file.readlines())\n",
    "    file.close()\n",
    "    pattern = re.compile('[^A-Za-z0-9]+')\n",
    "    counts = {}\n",
    "    for word in pattern.split(content.lower()):\n",
    "        if word in counts:\n",
    "            counts[word] += 1\n",
    "        else:\n",
    "            counts[word] = 1\n",
    "    sortedCounts = sorted(counts.items(), key = lambda x: x[1], reverse = True)\n",
    "    output = '\\n'.join([f'{w} {c}' for w, c in sortedCounts])\n",
    "    export = open('word_count.txt', 'w')\n",
    "    export.write(output)\n",
    "    export.close()"
   ]
  },
  {
   "cell_type": "code",
   "execution_count": 60,
   "metadata": {},
   "outputs": [],
   "source": [
    "countWords('question4.txt')"
   ]
  },
  {
   "cell_type": "code",
   "execution_count": null,
   "metadata": {},
   "outputs": [],
   "source": []
  }
 ],
 "metadata": {
  "hide_input": false,
  "kernelspec": {
   "display_name": "Python 3",
   "language": "python",
   "name": "python3"
  },
  "language_info": {
   "codemirror_mode": {
    "name": "ipython",
    "version": 3
   },
   "file_extension": ".py",
   "mimetype": "text/x-python",
   "name": "python",
   "nbconvert_exporter": "python",
   "pygments_lexer": "ipython3",
   "version": "3.7.4"
  }
 },
 "nbformat": 4,
 "nbformat_minor": 2
}
